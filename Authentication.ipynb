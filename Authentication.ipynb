{
 "cells": [
  {
   "cell_type": "code",
   "execution_count": 1,
   "id": "f2950432-2cf8-44b6-91f1-141e5fc883b9",
   "metadata": {},
   "outputs": [],
   "source": [
    "# Setup, ignore\n",
    "\n",
    "from requests import get, post, put, delete\n",
    "\n",
    "url = \"http://192.168.0.10:5000\""
   ]
  },
  {
   "cell_type": "code",
   "execution_count": 14,
   "id": "7e14192b-215c-4c86-92ca-bdb73fc8bda3",
   "metadata": {},
   "outputs": [
    {
     "name": "stdin",
     "output_type": "stream",
     "text": [
      "Username:  liam\n",
      "Password:  charly\n"
     ]
    },
    {
     "name": "stdout",
     "output_type": "stream",
     "text": [
      "4b5de8fdda7fc9b8ddaf387b0c56415fbac636abaa4af2b4c41b912b4400267c\n"
     ]
    }
   ],
   "source": [
    "# Demonstration\n",
    "\n",
    "def main() -> None:\n",
    "    username_attempt = input(\"Username: \").strip().lower()\n",
    "    password_attempt = input(\"Password: \").strip().lower()\n",
    "\n",
    "    if not username_attempt or not password_attempt:\n",
    "        print(\"Please enter a username and password.\")\n",
    "        return\n",
    "\n",
    "    data = {\n",
    "        \"username\": username_attempt,\n",
    "        \"password\": password_attempt\n",
    "    }\n",
    "\n",
    "    # Make a POST request to /authenticate with the user's attempted credentials.\n",
    "    \n",
    "    response = post(url + \"/authenticate\", json=data)\n",
    "    \n",
    "    print(response.text)\n",
    "\n",
    "main()"
   ]
  },
  {
   "cell_type": "code",
   "execution_count": null,
   "id": "f0dec380-0135-47d5-a00b-f2e6ce433fdb",
   "metadata": {},
   "outputs": [],
   "source": []
  }
 ],
 "metadata": {
  "kernelspec": {
   "display_name": "Python 3 (ipykernel)",
   "language": "python",
   "name": "python3"
  },
  "language_info": {
   "codemirror_mode": {
    "name": "ipython",
    "version": 3
   },
   "file_extension": ".py",
   "mimetype": "text/x-python",
   "name": "python",
   "nbconvert_exporter": "python",
   "pygments_lexer": "ipython3",
   "version": "3.12.1"
  }
 },
 "nbformat": 4,
 "nbformat_minor": 5
}
