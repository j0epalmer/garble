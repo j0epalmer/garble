{
 "cells": [
  {
   "cell_type": "code",
   "execution_count": null,
   "id": "e04d3c77-74c4-46cb-9061-8eccac703a25",
   "metadata": {},
   "outputs": [],
   "source": [
    "# Setup, ignore\n",
    "\n",
    "from requests import get, post, put, delete\n",
    "\n",
    "url = \"http://192.168.0.10:5000\""
   ]
  },
  {
   "cell_type": "code",
   "execution_count": null,
   "id": "5c653be7-896d-4ed8-8bc2-fee33e896331",
   "metadata": {},
   "outputs": [],
   "source": [
    "# Demonstration\n",
    "\n",
    "def main() -> None:\n",
    "    desired_username = input(\"Username: \").strip().lower()\n",
    "    desired_password = input(\"Password: \").strip().lower()\n",
    "\n",
    "    if not desired_username or not desired_password:\n",
    "        print(\"Please enter a username and password.\")\n",
    "        return\n",
    "\n",
    "    data = {\n",
    "        \"username\": desired_username,\n",
    "        \"password\": desired_password\n",
    "    }\n",
    "\n",
    "    response = post(url + \"/register\", json=data)\n",
    "\n",
    "    # The following statement could output the following:\n",
    "    # \"Account created.\" - An account was created using the user's desired username and password.\n",
    "    # \"Username taken.\" - The user's desired username is being used by a different user.\n",
    "    \n",
    "    print(response.text)\n",
    "\n",
    "main()"
   ]
  },
  {
   "cell_type": "code",
   "execution_count": null,
   "id": "c696975e-33ac-4cbf-9c5b-999b420c953b",
   "metadata": {},
   "outputs": [],
   "source": []
  }
 ],
 "metadata": {
  "kernelspec": {
   "display_name": "Python 3 (ipykernel)",
   "language": "python",
   "name": "python3"
  },
  "language_info": {
   "codemirror_mode": {
    "name": "ipython",
    "version": 3
   },
   "file_extension": ".py",
   "mimetype": "text/x-python",
   "name": "python",
   "nbconvert_exporter": "python",
   "pygments_lexer": "ipython3",
   "version": "3.12.1"
  }
 },
 "nbformat": 4,
 "nbformat_minor": 5
}
