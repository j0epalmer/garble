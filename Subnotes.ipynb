{
 "cells": [
  {
   "cell_type": "code",
   "execution_count": 17,
   "id": "3ee0f226-fa3b-4323-aade-a3661d4fabe7",
   "metadata": {},
   "outputs": [],
   "source": [
    "# Setup\n",
    "\n",
    "from requests import get, post, put, delete\n",
    "from blowfish import Cipher\n",
    "from ast import literal_eval\n",
    "\n",
    "url = \"http://192.168.0.10:5000\"\n",
    "\n",
    "def get_cipher_key(token: str) -> bytes:\n",
    "    data = {\n",
    "        \"token\": token\n",
    "    }\n",
    "\n",
    "    key = get(url + \"/key\", json=data).text\n",
    "    return str.encode(key)\n",
    "\n",
    "\n",
    "def get_iv(token: str) -> bytes:\n",
    "    data = {\n",
    "        \"token\": token\n",
    "    }\n",
    "\n",
    "    iv = get(url + \"/iv\", json=data).text\n",
    "    return str.encode(iv)\n",
    "\n",
    "\n",
    "def encrypt_title(cipher: Cipher, title: str, iv: str) -> str:\n",
    "    encrypted_title = b\"\".join(cipher.encrypt_cfb(title, iv))\n",
    "\n",
    "    return str(encrypted_title)\n",
    "\n",
    "def decrypt_title(cipher: Cipher, encrypted_title: str, iv: str) -> str:\n",
    "    encrypted_title = literal_eval(encrypted_title)\n",
    "    decrypted_title = b\"\".join(cipher.decrypt_cfb(encrypted_title, iv))\n",
    "\n",
    "    return decrypted_title.decode()"
   ]
  },
  {
   "cell_type": "code",
   "execution_count": 30,
   "id": "abcfdcb2-14b1-4cef-853c-89d04b3101e8",
   "metadata": {},
   "outputs": [
    {
     "name": "stdin",
     "output_type": "stream",
     "text": [
      "Token:  4b5de8fdda7fc9b8ddaf387b0c56415fbac636abaa4af2b4c41b912b4400267c\n",
      "Parent Note ID:  1\n",
      "Content:  I was feeling indifferent and then I felt sad. Suddenly, I was excited for the day and felt good about myself. \n"
     ]
    },
    {
     "name": "stdout",
     "output_type": "stream",
     "text": [
      "POST /subnotes\n"
     ]
    }
   ],
   "source": [
    "# Demonstration - Subnote Creation\n",
    "\n",
    "def main():\n",
    "    token = input(\"Token: \").strip().lower()\n",
    "\n",
    "    data = {\n",
    "        \"token\": token\n",
    "    }\n",
    "\n",
    "    response = post(url + \"/validate-token\", json=data)\n",
    "\n",
    "    if response.text == \"0\":\n",
    "        print(\"Invalid token.\")\n",
    "        return\n",
    "\n",
    "    key = get_cipher_key(token)\n",
    "    iv = get_iv(token)\n",
    "    cipher = Cipher(key)\n",
    "\n",
    "    parent_note_id = int(input(\"Parent Note ID: \"))\n",
    "    content = str.encode(input(\"Content: \").strip())\n",
    "\n",
    "    data = {\n",
    "        \"token\": token,\n",
    "        \"note_id\": parent_note_id,\n",
    "        \"content\": encrypt_title(cipher, content, iv)\n",
    "\n",
    "    }\n",
    "        \n",
    "    response = post(url + \"/subnotes\", json=data)\n",
    "    print(response.text)\n",
    "\n",
    "main()"
   ]
  },
  {
   "cell_type": "code",
   "execution_count": 32,
   "id": "43c395ce-8f65-4d1f-b49e-e1aeef264111",
   "metadata": {},
   "outputs": [
    {
     "name": "stdin",
     "output_type": "stream",
     "text": [
      "Token:  4b5de8fdda7fc9b8ddaf387b0c56415fbac636abaa4af2b4c41b912b4400267c\n",
      "Note ID:  1\n",
      "Subnote ID:  2\n",
      "Updated Content:  I was feeling indifferent and then I felt bad. Suddenly, I was excited for the day and felt good about myself.\n"
     ]
    },
    {
     "name": "stdout",
     "output_type": "stream",
     "text": [
      "Subnote updated.\n"
     ]
    }
   ],
   "source": [
    "# Demonstration - Updating a Subnote\n",
    "\n",
    "def main():\n",
    "    token = input(\"Token: \").strip().lower()\n",
    "\n",
    "    data = {\n",
    "        \"token\": token\n",
    "    }\n",
    "\n",
    "    response = post(url + \"/validate-token\", json=data)\n",
    "\n",
    "    if response.text == \"0\":\n",
    "        print(\"Invalid token.\")\n",
    "        return\n",
    "\n",
    "    key = get_cipher_key(token)\n",
    "    iv = get_iv(token)\n",
    "    cipher = Cipher(key)\n",
    "\n",
    "    note_id = int(input(\"Note ID: \"))\n",
    "    subnote_id = int(input(\"Subnote ID: \"))\n",
    "    content = str.encode(input(\"Updated Content: \").strip())\n",
    "\n",
    "    data = {\n",
    "        \"token\": token,\n",
    "        \"note_id\": note_id,\n",
    "        \"subnote_id\": subnote_id,\n",
    "        \"content\": encrypt_title(cipher, content, iv)\n",
    "    }\n",
    "\n",
    "    response = put(url + \"/subnotes\", json=data)\n",
    "    print(response.text)\n",
    "\n",
    "main()"
   ]
  },
  {
   "cell_type": "code",
   "execution_count": 28,
   "id": "4ab3b952-9740-4723-b153-7a8b9299caf1",
   "metadata": {},
   "outputs": [
    {
     "name": "stdin",
     "output_type": "stream",
     "text": [
      "Token:  4b5de8fdda7fc9b8ddaf387b0c56415fbac636abaa4af2b4c41b912b4400267c\n",
      "Parent Note ID:  1\n",
      "Subnote ID:  2\n"
     ]
    },
    {
     "name": "stdout",
     "output_type": "stream",
     "text": [
      "Subnote deleted.\n"
     ]
    }
   ],
   "source": [
    "# Demonstration - Subnote Deletion\n",
    "\n",
    "def main():\n",
    "    token = input(\"Token: \").strip().lower()\n",
    "\n",
    "    data = {\n",
    "        \"token\": token\n",
    "    }\n",
    "\n",
    "    response = post(url + \"/validate-token\", json=data)\n",
    "\n",
    "    if response.text == \"0\":\n",
    "        print(\"Invalid token.\")\n",
    "        return\n",
    "\n",
    "    parent_note_id = int(input(\"Parent Note ID: \"))\n",
    "    subnote_id = int(input(\"Subnote ID: \"))\n",
    "\n",
    "    data = {\n",
    "        \"token\": token,\n",
    "        \"note_id\": parent_note_id,\n",
    "        \"subnote_id\": subnote_id\n",
    "    }\n",
    "\n",
    "    response = delete(url + \"/subnotes\", json=data)\n",
    "    print(response.text)\n",
    "\n",
    "main()"
   ]
  },
  {
   "cell_type": "code",
   "execution_count": 31,
   "id": "41858f63-29e5-4fe3-b913-4b24aa247152",
   "metadata": {},
   "outputs": [
    {
     "name": "stdin",
     "output_type": "stream",
     "text": [
      "Token:  4b5de8fdda7fc9b8ddaf387b0c56415fbac636abaa4af2b4c41b912b4400267c\n"
     ]
    },
    {
     "name": "stdout",
     "output_type": "stream",
     "text": [
      "\n",
      "Subnote ID: 1\n",
      "Content: The third studio album by The Prodigy.\n",
      "Modified: 1709222379\n",
      "Parent Note ID: 1\n",
      "\n",
      "Subnote ID: 2\n",
      "Content: I was feeling indifferent and then I felt sad. Suddenly, I was excited for the day and felt good about myself.\n",
      "Modified: 1709238517\n",
      "Parent Note ID: 1\n"
     ]
    }
   ],
   "source": [
    "# Demonstration - Retrieve Subnotes\n",
    "\n",
    "def main():\n",
    "    token = input(\"Token: \").strip().lower()\n",
    "\n",
    "    data = {\n",
    "        \"token\": token\n",
    "    }\n",
    "\n",
    "    response = post(url + \"/validate-token\", json=data)\n",
    "\n",
    "    if response.text == \"0\":\n",
    "        print(\"Invalid token.\")\n",
    "        return\n",
    "\n",
    "    key = get_cipher_key(token)\n",
    "    iv = get_iv(token)\n",
    "    cipher = Cipher(key)\n",
    "    \n",
    "    response = get(url + \"/subnotes\", json=data)\n",
    "\n",
    "    for subnote in response.json():\n",
    "        subnote_id = subnote[\"id\"]\n",
    "        content = decrypt_title(cipher, subnote[\"content\"], iv)\n",
    "        modified = subnote[\"modified\"]\n",
    "        parent_note_id = subnote[\"note_id\"]\n",
    "\n",
    "        print(\"\")\n",
    "        \n",
    "        print(f\"Subnote ID: {subnote_id}\")\n",
    "        print(f\"Content: {content}\")\n",
    "        print(f\"Modified: {modified}\")\n",
    "        print(f\"Parent Note ID: {parent_note_id}\")\n",
    "\n",
    "main()"
   ]
  },
  {
   "cell_type": "code",
   "execution_count": null,
   "id": "4106fe3f-8356-488e-b594-6af856e82a09",
   "metadata": {},
   "outputs": [],
   "source": []
  }
 ],
 "metadata": {
  "kernelspec": {
   "display_name": "Python 3 (ipykernel)",
   "language": "python",
   "name": "python3"
  },
  "language_info": {
   "codemirror_mode": {
    "name": "ipython",
    "version": 3
   },
   "file_extension": ".py",
   "mimetype": "text/x-python",
   "name": "python",
   "nbconvert_exporter": "python",
   "pygments_lexer": "ipython3",
   "version": "3.12.1"
  }
 },
 "nbformat": 4,
 "nbformat_minor": 5
}
